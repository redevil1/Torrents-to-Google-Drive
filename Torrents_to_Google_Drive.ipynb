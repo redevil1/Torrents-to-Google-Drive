{
 "cells": [
  {
   "cell_type": "markdown",
   "metadata": {
    "colab_type": "text",
    "id": "view-in-github"
   },
   "source": [
    "<a href=\"https://colab.research.google.com/github/redevil1/Torrents-to-Google-Drive/blob/master/Torrents_to_Google_Drive.ipynb\" target=\"_parent\"><img src=\"https://colab.research.google.com/assets/colab-badge.svg\" alt=\"Open In Colab\"/></a>"
   ]
  },
  {
   "cell_type": "markdown",
   "metadata": {
    "id": "HGctdySsIGFS"
   },
   "source": [
    "# **<font color='blue'> Torrents to Google Drive - Shared by [redevil1](https://github.com/redevil1) and slightly ) </font>**\n"
   ]
  },
  {
   "cell_type": "markdown",
   "metadata": {
    "id": "4E-uzYrv5o0B"
   },
   "source": [
    "### Mount Google Drive"
   ]
  },
  {
   "cell_type": "code",
   "execution_count": null,
   "metadata": {
    "cellView": "form",
    "id": "iroeLPFdXbif"
   },
   "outputs": [],
   "source": [
    "from google.colab import drive\n",
    "\n",
    "drive.mount(\"/content/drive\")"
   ]
  },
  {
   "cell_type": "markdown",
   "metadata": {
    "id": "fkaNFMaxHDWz"
   },
   "source": [
    "---\n",
    "# <img src='https://raw.githubusercontent.com/sudo-ken/Torrents-to-Google-Drive/master/title_qbittorrent.png' height=\"45\" alt=\"qBittorrent\"/>"
   ]
  },
  {
   "cell_type": "code",
   "execution_count": null,
   "metadata": {
    "cellView": "form",
    "id": "z3GBOoFFY9CB"
   },
   "outputs": [],
   "source": [
    "###INSTALL LOCALTUNNEL\n",
    "!npm install -g localtunnel\n"
   ]
  },
  {
   "cell_type": "code",
   "execution_count": null,
   "metadata": {
    "cellView": "form",
    "id": "ELoHkXE1Xnms"
   },
   "outputs": [],
   "source": [
    "###INSTALL QBITTORRENT\n",
    "import os, time, urllib.request, json; from IPython.display import clear_output\n",
    "\n",
    "\n",
    "if os.path.isfile(\"/usr/bin/qbittorrent-nox\") == False:\n",
    "    get_ipython().system_raw(\"apt update -qq -y && yes \"\" | add-apt-repository ppa:qbittorrent-team/qbittorrent-stable\")\n",
    "    get_ipython().system_raw(\"apt install qbittorrent-nox\")\n",
    "    get_ipython().system_raw(\"mkdir -p -m 666 /{content/qBittorrent,root/{.qBittorrent_temp,.config/qBittorrent}} && curl -s https://raw.githubusercontent.com/redevil1/Torrents-to-Google-Drive/main/7TEALGNz.txt -o /root/.config/qBittorrent/qBittorrent.conf\")\n",
    "    print(\"qBittorrent successfully installed.\")\n",
    "    clear_output(wait=True)\n",
    "else:\n",
    "    print(\"qBittorrent already installed. Skipping...\")\n",
    "    clear_output(wait=True)\n",
    "    !pkill qbittorrent-nox\n",
    "    \n",
    "!qbittorrent-nox -d --webui-port=5454\n",
    "print(\"qBittorrent started \")\n",
    "clear_output(wait=True)\n",
    "\n",
    "!lt --port 5454"
   ]
  },
  {
   "cell_type": "markdown",
   "metadata": {},
   "source": [
    "#__Run Web File Browser__"
   ]
  },
  {
   "cell_type": "code",
   "execution_count": null,
   "metadata": {},
   "outputs": [],
   "source": [
    "import os \n",
    "import shutil\n",
    "import click\n",
    "\n",
    "if os.path.isdir(\"KodExplorer-4.46\"):\n",
    "    if click.confirm(\"Do you want remove old KodExplorer folder\"):\n",
    "        shutil.rmtree('KodExplorer-4.46', ignore_errors=True)\n",
    "\n",
    "if os.path.isfile(\"4.46.zip\")==False:\n",
    "    os.system(\"wget 'https://github.com/kalcaddle/KodExplorer/archive/refs/tags/4.46.zip'\")\n",
    "\n",
    "if os.path.isfile(\"/usr/bin/unzip\"):\n",
    "    os.system(\"unzip 4.46.zip\")\n",
    "else :\n",
    "    os.system(\"apt install unzip\")\n",
    "    os.system(\"unzip 4.46.zip\")\n",
    "\n",
    "print(\"installing php...\")\n",
    "!apt install php7.2 > /dev/null 2>&1\n",
    "if os.path.isfile(\"/usr/bin/php7.2\"):\n",
    "    print(\"php installed\")\n",
    "!apt install php7.2-curl > /dev/null 2>&1\n",
    "if os.path.isdir(\"/usr/share/php7.2-curl\"):\n",
    "    print(\"php7.2-curl installed\")\n",
    "!apt install php7.2-mbstring > /dev/null 2>&1\n",
    "if os.path.isdir(\"/usr/share/php7.2-mbstring\"):\n",
    "    print(\"php7.2-mbstring installed\")\n",
    "!apt install php7.2-gd > /dev/null 2>&1\n",
    "if os.path.isdir(\"/usr/share/php7.2-gd\"):\n",
    "    print(\"php7.2-gd installed\")\n",
    "    \n",
    "!php7.2 -S 127.0.0.1:8081 -t KodExplorer-4.46/ > /dev/null 2>&1 &\n",
    "\n",
    "!npm install -g localtunnel\n",
    "!lt --port 8081"
   ]
  },
  {
   "cell_type": "markdown",
   "metadata": {
    "id": "_T-A9oteyW14"
   },
   "source": [
    "### 📚 Follow me on GitHub for more: [_@redevil1_](https://github.com/redevil1)\n",
    "##### 📦 Repo: [Github](https://github.com/redevil1/Torrents-to-Google-Drive)"
   ]
  }
 ],
 "metadata": {
  "accelerator": "GPU",
  "colab": {
   "collapsed_sections": [
    "4E-uzYrv5o0B",
    "fkaNFMaxHDWz",
    "6I2huqscJEPn"
   ],
   "include_colab_link": true,
   "name": "Torrents to Google Drive (localtunnel ver.)",
   "provenance": [],
   "toc_visible": true
  },
  "kernelspec": {
   "display_name": "Python 3",
   "language": "python",
   "name": "python3"
  },
  "language_info": {
   "codemirror_mode": {
    "name": "ipython",
    "version": 3
   },
   "file_extension": ".py",
   "mimetype": "text/x-python",
   "name": "python",
   "nbconvert_exporter": "python",
   "pygments_lexer": "ipython3",
   "version": "3.9.2"
  }
 },
 "nbformat": 4,
 "nbformat_minor": 1
}
